{
  "nbformat": 4,
  "nbformat_minor": 0,
  "metadata": {
    "colab": {
      "provenance": [],
      "collapsed_sections": []
    },
    "kernelspec": {
      "name": "python3",
      "display_name": "Python 3"
    },
    "language_info": {
      "name": "python"
    }
  },
  "cells": [
    {
      "cell_type": "code",
      "execution_count": 1,
      "metadata": {
        "id": "Y8xag4rY33p3"
      },
      "outputs": [],
      "source": [
        "import os\n",
        "import zipfile\n",
        "import random\n",
        "import tensorflow as tf\n",
        "from tensorflow.keras.optimizers import RMSprop\n",
        "from tensorflow.keras.preprocessing.image import ImageDataGenerator\n",
        "import shutil\n"
      ]
    },
    {
      "cell_type": "code",
      "source": [
        "class_names = ['mountain', 'street', 'glacier', 'buildings', 'sea', 'forest']\n",
        "class_names_label = {class_name:i for i, class_name in enumerate(class_names)}\n",
        "\n",
        "nb_classes = len(class_names)\n",
        "\n",
        "IMAGE_SIZE = (150, 150)"
      ],
      "metadata": {
        "id": "IK_-WPcwByjc"
      },
      "execution_count": 2,
      "outputs": []
    },
    {
      "cell_type": "code",
      "source": [
        "local_zip = '/content/drive/MyDrive/Dataset 1.zip'\n",
        "zip_ref = zipfile.ZipFile(local_zip, 'r')\n",
        "zip_ref.extractall('/content')\n",
        "zip_ref.close()\n",
        "\n"
      ],
      "metadata": {
        "id": "x_fJbJ6A4It8"
      },
      "execution_count": 3,
      "outputs": []
    },
    {
      "cell_type": "code",
      "source": [],
      "metadata": {
        "id": "ig44JCY5Aegz"
      },
      "execution_count": null,
      "outputs": []
    },
    {
      "cell_type": "code",
      "source": [
        "print(len(os.listdir('/content/Dataset 1/buildings')))\n",
        "print(len(os.listdir('/content/Dataset 1/forest')))\n",
        "print(len(os.listdir('/content/Dataset 1/glacier')))\n",
        "print(len(os.listdir('/content/Dataset 1/mountain')))\n",
        "print(len(os.listdir('/content/Dataset 1/sea')))\n",
        "print(len(os.listdir('/content/Dataset 1/street')))"
      ],
      "metadata": {
        "colab": {
          "base_uri": "https://localhost:8080/"
        },
        "id": "_jDiZsdm4I9X",
        "outputId": "773543e9-8bab-486a-b518-431eeedc4ed7"
      },
      "execution_count": 4,
      "outputs": [
        {
          "output_type": "stream",
          "name": "stdout",
          "text": [
            "2191\n",
            "2271\n",
            "2404\n",
            "2512\n",
            "2274\n",
            "2382\n"
          ]
        }
      ]
    },
    {
      "cell_type": "code",
      "source": [
        "try:\n",
        "    os.mkdir('/content/Dataset 1ori/')\n",
        "    os.mkdir('/content/Dataset 1ori/training/')\n",
        "    os.mkdir('/content/Dataset 1ori/testing/')\n",
        "    \n",
        "except OSError:\n",
        "    pass"
      ],
      "metadata": {
        "id": "IXDqL6BW4JAp"
      },
      "execution_count": 13,
      "outputs": []
    },
    {
      "cell_type": "code",
      "source": [
        "import numpy as np\n",
        "rootdir= '/content/Dataset 1' #path of the original folder\n",
        "\n",
        "classes = ['buildings', 'forest', 'glacier','mountain', 'sea', 'street']\n",
        "\n",
        "for i in classes:\n",
        "\n",
        "  os.makedirs( '/content/Dataset 1ori/training/' + i)\n",
        "\n",
        "  os.makedirs('/content/Dataset 1ori/testing/' + i)\n",
        "  source = rootdir + '/' + i\n",
        "  allFileNames = os.listdir(source)\n",
        "  np.random.shuffle(allFileNames)\n",
        "  test_ratio = 0.25\n",
        "  train_FileNames, test_FileNames = np.split(np.array(allFileNames),\n",
        "                                                      [int(len(allFileNames)* (1 - test_ratio))])\n",
        "  train_FileNames = [source+'/'+ name for name in train_FileNames.tolist()]\n",
        "  test_FileNames = [source+'/' + name for name in test_FileNames.tolist()]\n",
        "  for name in train_FileNames:\n",
        "    shutil.copy(name, '/content/Dataset 1ori/training/' + i)\n",
        "\n",
        "  for name in test_FileNames:\n",
        "    shutil.copy(name, '/content/Dataset 1ori/testing/' + i)"
      ],
      "metadata": {
        "id": "M8FTHGqa4JEJ"
      },
      "execution_count": 5,
      "outputs": []
    },
    {
      "cell_type": "code",
      "source": [
        "import numpy as np\n",
        "import pandas as pd\n",
        "from keras import layers\n",
        "from keras.layers import Input,Dense,Activation,ZeroPadding2D,BatchNormalization,Flatten,Conv2D\n",
        "from keras.layers import AveragePooling2D,MaxPooling2D,Dropout,GlobalAveragePooling2D,GlobalMaxPooling2D\n",
        "from keras.models import Model\n",
        "from keras.preprocessing import image\n",
        "from keras.utils import layer_utils\n",
        "from tensorflow.keras.preprocessing.image import ImageDataGenerator\n",
        "from tensorflow.keras.callbacks import ModelCheckpoint, ReduceLROnPlateau\n",
        "from keras.applications.imagenet_utils import preprocess_input\n",
        "import pydot\n",
        "from IPython.display import SVG\n",
        "from keras.utils.vis_utils import model_to_dot\n",
        "from keras.initializers import glorot_uniform\n",
        "import scipy.misc\n",
        "import plot_model\n",
        "from matplotlib.pyplot import imshow\n",
        "import scipy.misc\n",
        "import imageio\n",
        "\n",
        "import keras.backend as K\n",
        "K.set_image_data_format('channels_last')\n",
        "import matplotlib.pyplot as plt\n",
        "from matplotlib.pyplot import imshow\n",
        "def hmodel():\n",
        "  num_classes = 6\n",
        "  img_height,img_width = (150,150)\n",
        "  X_input = Input(shape = (img_height,img_width,3))\n",
        "  X = ZeroPadding2D((2,2))(X_input)\n",
        "  X = Conv2D(16,(2,2),strides=(1,1), padding='same',name = 'conv0')(X)\n",
        "  X = BatchNormalization(axis = 3,name = 'bn0')(X)\n",
        "  X = Activation('relu')(X)\n",
        "  X = MaxPooling2D((2,2),padding='same',name = 'max_pool0')(X)\n",
        "\n",
        "  X = Conv2D(32,(2,2),strides=(1,1), padding = 'same', name = 'conv1')(X)\n",
        "  X = BatchNormalization(axis = 3, name = 'bn1')(X)\n",
        "  X = Activation('relu')(X)\n",
        "  X = MaxPooling2D((2,2), padding = 'valid',name = 'max_pool1')(X)\n",
        "  \n",
        "  X = Conv2D(64,(2,2),strides=(1,1), padding = 'same', name = 'conv2')(X)\n",
        "  X = BatchNormalization(axis = 3, name = 'bn2')(X)\n",
        "  X = Activation('relu')(X)\n",
        "  X = MaxPooling2D((2,2), padding = 'valid',name = 'max_pool2')(X)\n",
        "  \n",
        "  X = Conv2D(128,(2,2),strides=(1,1), padding = 'same', name = 'conv3')(X)\n",
        "  X = BatchNormalization(axis = 3, name = 'bn3')(X)\n",
        "  X = Activation('relu')(X)\n",
        "  X = MaxPooling2D((2,2), padding = 'valid',name = 'max_pool3')(X)\n",
        "  \n",
        "  X = Flatten()(X)\n",
        "  X = Dense(256)(X)\n",
        "  X = BatchNormalization()(X)\n",
        "  X = Activation('relu')(X)\n",
        "\n",
        "  X = Dense(256)(X)\n",
        "  X = BatchNormalization()(X)\n",
        "  X = Activation('relu')(X)\n",
        "\n",
        "  X_output = Dense(num_classes, activation = 'softmax')(X)\n",
        "\n",
        "  model = Model(inputs = X_input, outputs = X_output)\n",
        "\n",
        "  return model"
      ],
      "metadata": {
        "id": "JyQ2U239UNx-"
      },
      "execution_count": 8,
      "outputs": []
    },
    {
      "cell_type": "code",
      "source": [
        "model = hmodel()"
      ],
      "metadata": {
        "id": "uT_-0mYkOFA8"
      },
      "execution_count": 9,
      "outputs": []
    },
    {
      "cell_type": "code",
      "source": [
        "model.compile(optimizer = 'adam', loss= 'categorical_crossentropy', metrics = ['accuracy'])\n",
        "model.summary()"
      ],
      "metadata": {
        "colab": {
          "base_uri": "https://localhost:8080/"
        },
        "id": "4bZgxYGIUN1V",
        "outputId": "294723ea-840b-4d5d-e03f-a3e1479e9ba2"
      },
      "execution_count": 10,
      "outputs": [
        {
          "output_type": "stream",
          "name": "stdout",
          "text": [
            "Model: \"model\"\n",
            "_________________________________________________________________\n",
            " Layer (type)                Output Shape              Param #   \n",
            "=================================================================\n",
            " input_1 (InputLayer)        [(None, 150, 150, 3)]     0         \n",
            "                                                                 \n",
            " zero_padding2d (ZeroPadding  (None, 154, 154, 3)      0         \n",
            " 2D)                                                             \n",
            "                                                                 \n",
            " conv0 (Conv2D)              (None, 154, 154, 16)      208       \n",
            "                                                                 \n",
            " bn0 (BatchNormalization)    (None, 154, 154, 16)      64        \n",
            "                                                                 \n",
            " activation (Activation)     (None, 154, 154, 16)      0         \n",
            "                                                                 \n",
            " max_pool0 (MaxPooling2D)    (None, 77, 77, 16)        0         \n",
            "                                                                 \n",
            " conv1 (Conv2D)              (None, 77, 77, 32)        2080      \n",
            "                                                                 \n",
            " bn1 (BatchNormalization)    (None, 77, 77, 32)        128       \n",
            "                                                                 \n",
            " activation_1 (Activation)   (None, 77, 77, 32)        0         \n",
            "                                                                 \n",
            " max_pool1 (MaxPooling2D)    (None, 38, 38, 32)        0         \n",
            "                                                                 \n",
            " conv2 (Conv2D)              (None, 38, 38, 64)        8256      \n",
            "                                                                 \n",
            " bn2 (BatchNormalization)    (None, 38, 38, 64)        256       \n",
            "                                                                 \n",
            " activation_2 (Activation)   (None, 38, 38, 64)        0         \n",
            "                                                                 \n",
            " max_pool2 (MaxPooling2D)    (None, 19, 19, 64)        0         \n",
            "                                                                 \n",
            " conv3 (Conv2D)              (None, 19, 19, 128)       32896     \n",
            "                                                                 \n",
            " bn3 (BatchNormalization)    (None, 19, 19, 128)       512       \n",
            "                                                                 \n",
            " activation_3 (Activation)   (None, 19, 19, 128)       0         \n",
            "                                                                 \n",
            " max_pool3 (MaxPooling2D)    (None, 9, 9, 128)         0         \n",
            "                                                                 \n",
            " flatten (Flatten)           (None, 10368)             0         \n",
            "                                                                 \n",
            " dense (Dense)               (None, 256)               2654464   \n",
            "                                                                 \n",
            " batch_normalization (BatchN  (None, 256)              1024      \n",
            " ormalization)                                                   \n",
            "                                                                 \n",
            " activation_4 (Activation)   (None, 256)               0         \n",
            "                                                                 \n",
            " dense_1 (Dense)             (None, 256)               65792     \n",
            "                                                                 \n",
            " batch_normalization_1 (Batc  (None, 256)              1024      \n",
            " hNormalization)                                                 \n",
            "                                                                 \n",
            " activation_5 (Activation)   (None, 256)               0         \n",
            "                                                                 \n",
            " dense_2 (Dense)             (None, 6)                 1542      \n",
            "                                                                 \n",
            "=================================================================\n",
            "Total params: 2,768,246\n",
            "Trainable params: 2,766,742\n",
            "Non-trainable params: 1,504\n",
            "_________________________________________________________________\n"
          ]
        }
      ]
    },
    {
      "cell_type": "code",
      "source": [
        "img_size = 150\n",
        "BS = 64\n",
        "\n",
        "datagen_train = ImageDataGenerator(horizontal_flip = True,\n",
        "                                   rescale = 1./255,\n",
        "                                   shear_range = 0.2,\n",
        "                                   zoom_range = 0.2)\n",
        "train_genrator = datagen_train.flow_from_directory(\"/content/Dataset 1ori/training\",\n",
        "                                                   target_size = (img_size,img_size),\n",
        "                                                   batch_size = BS,\n",
        "                                                   class_mode = \"categorical\",\n",
        "                                                   shuffle = True)\n",
        "\n",
        "datagen_validation = ImageDataGenerator(horizontal_flip = True,\n",
        "                                        rescale = 1./255,\n",
        "                                        shear_range = 0.2,\n",
        "                                        zoom_range = 0.2)\n",
        "validation_generator = datagen_validation.flow_from_directory(\"/content/Dataset 1ori/testing\",\n",
        "                                                              target_size = (img_size,img_size),\n",
        "                                                              batch_size = BS,\n",
        "                                                              class_mode = \"categorical\",\n",
        "                                                              shuffle = False)"
      ],
      "metadata": {
        "colab": {
          "base_uri": "https://localhost:8080/"
        },
        "id": "HOoiDzIENTFi",
        "outputId": "874b7a5c-117a-4f93-db17-339446923bb1"
      },
      "execution_count": 11,
      "outputs": [
        {
          "output_type": "stream",
          "name": "stdout",
          "text": [
            "Found 10524 images belonging to 6 classes.\n",
            "Found 3510 images belonging to 6 classes.\n"
          ]
        }
      ]
    },
    {
      "cell_type": "code",
      "source": [
        "epochs = 10\n",
        "steps_per_epoch = int(train_genrator.n//train_genrator.batch_size)\n",
        "validation_steps = int(validation_generator.n//validation_generator.batch_size)\n",
        "\n",
        "reduce_lr = ReduceLROnPlateau(monitor = 'val_loss', factor=0.1, patience= 2, min_lr = 0.00001, mode = 'auto')\n",
        "checkpoint = ModelCheckpoint(\"model_weights.h5\", monitor='val_accuracy',save_weights_only=True, mode = 'max',verbose = 1)\n",
        "callbacks = [checkpoint, reduce_lr]\n",
        "\n"
      ],
      "metadata": {
        "id": "vfSBZdVeNTIp"
      },
      "execution_count": 12,
      "outputs": []
    },
    {
      "cell_type": "code",
      "source": [
        "H = model.fit(x = train_genrator,\n",
        "              steps_per_epoch = steps_per_epoch,\n",
        "              epochs = epochs,\n",
        "              validation_data = validation_generator,\n",
        "              validation_steps = validation_steps,\n",
        "              #callbacks = callbacks\n",
        "              )"
      ],
      "metadata": {
        "colab": {
          "base_uri": "https://localhost:8080/"
        },
        "id": "XIR8Y7S16fHX",
        "outputId": "98eedcb2-9c18-4b00-d993-fefece7cafcc"
      },
      "execution_count": 13,
      "outputs": [
        {
          "output_type": "stream",
          "name": "stdout",
          "text": [
            "Epoch 1/10\n",
            "164/164 [==============================] - 357s 2s/step - loss: 0.8023 - accuracy: 0.6986 - val_loss: 3.4805 - val_accuracy: 0.1817\n",
            "Epoch 2/10\n",
            "164/164 [==============================] - 352s 2s/step - loss: 0.5491 - accuracy: 0.8039 - val_loss: 1.8090 - val_accuracy: 0.4317\n",
            "Epoch 3/10\n",
            "164/164 [==============================] - 350s 2s/step - loss: 0.4839 - accuracy: 0.8215 - val_loss: 0.8211 - val_accuracy: 0.7124\n",
            "Epoch 4/10\n",
            "164/164 [==============================] - 350s 2s/step - loss: 0.4213 - accuracy: 0.8459 - val_loss: 0.7045 - val_accuracy: 0.7494\n",
            "Epoch 5/10\n",
            "164/164 [==============================] - 353s 2s/step - loss: 0.3909 - accuracy: 0.8552 - val_loss: 0.7065 - val_accuracy: 0.7552\n",
            "Epoch 6/10\n",
            "164/164 [==============================] - 350s 2s/step - loss: 0.3537 - accuracy: 0.8742 - val_loss: 1.2643 - val_accuracy: 0.6317\n",
            "Epoch 7/10\n",
            "164/164 [==============================] - 347s 2s/step - loss: 0.3182 - accuracy: 0.8845 - val_loss: 0.9236 - val_accuracy: 0.7318\n",
            "Epoch 8/10\n",
            "164/164 [==============================] - 351s 2s/step - loss: 0.2985 - accuracy: 0.8867 - val_loss: 2.2039 - val_accuracy: 0.4280\n",
            "Epoch 9/10\n",
            "164/164 [==============================] - 350s 2s/step - loss: 0.2772 - accuracy: 0.8984 - val_loss: 0.5565 - val_accuracy: 0.8021\n",
            "Epoch 10/10\n",
            "164/164 [==============================] - 350s 2s/step - loss: 0.2404 - accuracy: 0.9129 - val_loss: 1.7688 - val_accuracy: 0.5897\n"
          ]
        }
      ]
    },
    {
      "cell_type": "code",
      "source": [
        "plt.plot(H.history['accuracy'])\n",
        "plt.plot(H.history['loss'])\n",
        "plt.title('Model accuracy')\n",
        "plt.xlabel('Epoch')\n",
        "plt.legend(['Accuracy','Loss'], loc='lower right')\n",
        "plt.show()\n",
        "converter = tf.lite.TFLiteConverter.from_keras_model(model)\n",
        "tflite_model = converter.convert()\n",
        "with tf.io.gfile.GFile('model.tflite', 'wb') as f:\n",
        "  f.write(tflite_model)"
      ],
      "metadata": {
        "colab": {
          "base_uri": "https://localhost:8080/",
          "height": 295
        },
        "id": "Cimpat0mI4Gc",
        "outputId": "a9ff7e8b-4ff7-4ca3-bbe1-ec32f8e7934b"
      },
      "execution_count": 15,
      "outputs": [
        {
          "output_type": "display_data",
          "data": {
            "text/plain": [
              "<Figure size 432x288 with 1 Axes>"
            ],
            "image/png": "[encoded data removed]"
          },
          "metadata": {
            "needs_background": "light"
          }
        }
      ]
    },
    {
      "cell_type": "code",
      "source": [
        "print(\"The Accuracy of the model in the respected epochs are:\",H.history['accuracy'])"
      ],
      "metadata": {
        "colab": {
          "base_uri": "https://localhost:8080/"
        },
        "id": "pSGcVwIbJU65",
        "outputId": "2df38136-62d9-4e45-e6b1-a849e4a31cf0"
      },
      "execution_count": 19,
      "outputs": [
        {
          "output_type": "stream",
          "name": "stdout",
          "text": [
            "The Accuracy of the model in the respected epochs are: [0.6985659599304199, 0.8039196729660034, 0.8215104937553406, 0.8458890914916992, 0.855162501335144, 0.8741874098777771, 0.8845124244689941, 0.8867112994194031, 0.8983747363090515, 0.912906289100647]\n"
          ]
        }
      ]
    },
    {
      "cell_type": "code",
      "source": [
        "!pip install plot_model"
      ],
      "metadata": {
        "colab": {
          "base_uri": "https://localhost:8080/"
        },
        "id": "CnbUQ_MTNTMC",
        "outputId": "6597c56a-6528-4dc1-840f-fe809245c9cf"
      },
      "execution_count": 7,
      "outputs": [
        {
          "output_type": "stream",
          "name": "stdout",
          "text": [
            "Looking in indexes: https://pypi.org/simple, https://us-python.pkg.dev/colab-wheels/public/simple/\n",
            "Collecting plot_model\n",
            "  Downloading plot_model-0.20-py3-none-any.whl (6.9 kB)\n",
            "Installing collected packages: plot-model\n",
            "Successfully installed plot-model-0.20\n"
          ]
        }
      ]
    }
  ]
}